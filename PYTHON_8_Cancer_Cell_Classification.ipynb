{
  "nbformat": 4,
  "nbformat_minor": 0,
  "metadata": {
    "colab": {
      "name": "PYTHON_8_Cancer_Cell_Classification.ipynb",
      "provenance": [],
      "include_colab_link": true
    },
    "kernelspec": {
      "name": "python3",
      "display_name": "Python 3"
    },
    "language_info": {
      "name": "python"
    }
  },
  "cells": [
    {
      "cell_type": "markdown",
      "metadata": {
        "id": "view-in-github",
        "colab_type": "text"
      },
      "source": [
        "<a href=\"https://colab.research.google.com/github/kmeiyalagan/kmeiyalagan/blob/main/PYTHON_8_Cancer_Cell_Classification.ipynb\" target=\"_parent\"><img src=\"https://colab.research.google.com/assets/colab-badge.svg\" alt=\"Open In Colab\"/></a>"
      ]
    },
    {
      "cell_type": "markdown",
      "source": [
        "#### DATA PREPROCESSING"
      ],
      "metadata": {
        "id": "ZFRdIQJDp33s"
      }
    },
    {
      "cell_type": "code",
      "execution_count": null,
      "metadata": {
        "id": "N9jqKBHQdzen"
      },
      "outputs": [],
      "source": [
        "import numpy as np\n",
        "import pandas as pd\n",
        "import matplotlib.pyplot as plt"
      ]
    },
    {
      "cell_type": "code",
      "source": [
        "dataset  = pd.read_csv('CANCER CELL DATA.csv')"
      ],
      "metadata": {
        "id": "01ElFrqZoD9g"
      },
      "execution_count": null,
      "outputs": []
    },
    {
      "cell_type": "code",
      "source": [
        "dataset.head()"
      ],
      "metadata": {
        "colab": {
          "base_uri": "https://localhost:8080/",
          "height": 317
        },
        "id": "remuTrn3oeDh",
        "outputId": "8006a6ff-1c99-4591-a93c-7c75d4c4bb25"
      },
      "execution_count": null,
      "outputs": [
        {
          "output_type": "execute_result",
          "data": {
            "text/plain": [
              "         id  radius_mean  texture_mean  perimeter_mean  area_mean  \\\n",
              "0    842302        17.99         10.38          122.80     1001.0   \n",
              "1    842517        20.57         17.77          132.90     1326.0   \n",
              "2  84300903        19.69         21.25          130.00     1203.0   \n",
              "3  84348301        11.42         20.38           77.58      386.1   \n",
              "4  84358402        20.29         14.34          135.10     1297.0   \n",
              "\n",
              "   smoothness_mean  compactness_mean  concavity_mean  concave points_mean  \\\n",
              "0          0.11840           0.27760          0.3001              0.14710   \n",
              "1          0.08474           0.07864          0.0869              0.07017   \n",
              "2          0.10960           0.15990          0.1974              0.12790   \n",
              "3          0.14250           0.28390          0.2414              0.10520   \n",
              "4          0.10030           0.13280          0.1980              0.10430   \n",
              "\n",
              "   symmetry_mean  ...  texture_worst  perimeter_worst  area_worst  \\\n",
              "0         0.2419  ...          17.33           184.60      2019.0   \n",
              "1         0.1812  ...          23.41           158.80      1956.0   \n",
              "2         0.2069  ...          25.53           152.50      1709.0   \n",
              "3         0.2597  ...          26.50            98.87       567.7   \n",
              "4         0.1809  ...          16.67           152.20      1575.0   \n",
              "\n",
              "   smoothness_worst  compactness_worst  concavity_worst  concave points_worst  \\\n",
              "0            0.1622             0.6656           0.7119                0.2654   \n",
              "1            0.1238             0.1866           0.2416                0.1860   \n",
              "2            0.1444             0.4245           0.4504                0.2430   \n",
              "3            0.2098             0.8663           0.6869                0.2575   \n",
              "4            0.1374             0.2050           0.4000                0.1625   \n",
              "\n",
              "   symmetry_worst  fractal_dimension_worst  diagnosis  \n",
              "0          0.4601                  0.11890          M  \n",
              "1          0.2750                  0.08902          M  \n",
              "2          0.3613                  0.08758          M  \n",
              "3          0.6638                  0.17300          M  \n",
              "4          0.2364                  0.07678          M  \n",
              "\n",
              "[5 rows x 32 columns]"
            ],
            "text/html": [
              "\n",
              "  <div id=\"df-3800ed0f-c0e5-4793-b952-953d2b5f6398\">\n",
              "    <div class=\"colab-df-container\">\n",
              "      <div>\n",
              "<style scoped>\n",
              "    .dataframe tbody tr th:only-of-type {\n",
              "        vertical-align: middle;\n",
              "    }\n",
              "\n",
              "    .dataframe tbody tr th {\n",
              "        vertical-align: top;\n",
              "    }\n",
              "\n",
              "    .dataframe thead th {\n",
              "        text-align: right;\n",
              "    }\n",
              "</style>\n",
              "<table border=\"1\" class=\"dataframe\">\n",
              "  <thead>\n",
              "    <tr style=\"text-align: right;\">\n",
              "      <th></th>\n",
              "      <th>id</th>\n",
              "      <th>radius_mean</th>\n",
              "      <th>texture_mean</th>\n",
              "      <th>perimeter_mean</th>\n",
              "      <th>area_mean</th>\n",
              "      <th>smoothness_mean</th>\n",
              "      <th>compactness_mean</th>\n",
              "      <th>concavity_mean</th>\n",
              "      <th>concave points_mean</th>\n",
              "      <th>symmetry_mean</th>\n",
              "      <th>...</th>\n",
              "      <th>texture_worst</th>\n",
              "      <th>perimeter_worst</th>\n",
              "      <th>area_worst</th>\n",
              "      <th>smoothness_worst</th>\n",
              "      <th>compactness_worst</th>\n",
              "      <th>concavity_worst</th>\n",
              "      <th>concave points_worst</th>\n",
              "      <th>symmetry_worst</th>\n",
              "      <th>fractal_dimension_worst</th>\n",
              "      <th>diagnosis</th>\n",
              "    </tr>\n",
              "  </thead>\n",
              "  <tbody>\n",
              "    <tr>\n",
              "      <th>0</th>\n",
              "      <td>842302</td>\n",
              "      <td>17.99</td>\n",
              "      <td>10.38</td>\n",
              "      <td>122.80</td>\n",
              "      <td>1001.0</td>\n",
              "      <td>0.11840</td>\n",
              "      <td>0.27760</td>\n",
              "      <td>0.3001</td>\n",
              "      <td>0.14710</td>\n",
              "      <td>0.2419</td>\n",
              "      <td>...</td>\n",
              "      <td>17.33</td>\n",
              "      <td>184.60</td>\n",
              "      <td>2019.0</td>\n",
              "      <td>0.1622</td>\n",
              "      <td>0.6656</td>\n",
              "      <td>0.7119</td>\n",
              "      <td>0.2654</td>\n",
              "      <td>0.4601</td>\n",
              "      <td>0.11890</td>\n",
              "      <td>M</td>\n",
              "    </tr>\n",
              "    <tr>\n",
              "      <th>1</th>\n",
              "      <td>842517</td>\n",
              "      <td>20.57</td>\n",
              "      <td>17.77</td>\n",
              "      <td>132.90</td>\n",
              "      <td>1326.0</td>\n",
              "      <td>0.08474</td>\n",
              "      <td>0.07864</td>\n",
              "      <td>0.0869</td>\n",
              "      <td>0.07017</td>\n",
              "      <td>0.1812</td>\n",
              "      <td>...</td>\n",
              "      <td>23.41</td>\n",
              "      <td>158.80</td>\n",
              "      <td>1956.0</td>\n",
              "      <td>0.1238</td>\n",
              "      <td>0.1866</td>\n",
              "      <td>0.2416</td>\n",
              "      <td>0.1860</td>\n",
              "      <td>0.2750</td>\n",
              "      <td>0.08902</td>\n",
              "      <td>M</td>\n",
              "    </tr>\n",
              "    <tr>\n",
              "      <th>2</th>\n",
              "      <td>84300903</td>\n",
              "      <td>19.69</td>\n",
              "      <td>21.25</td>\n",
              "      <td>130.00</td>\n",
              "      <td>1203.0</td>\n",
              "      <td>0.10960</td>\n",
              "      <td>0.15990</td>\n",
              "      <td>0.1974</td>\n",
              "      <td>0.12790</td>\n",
              "      <td>0.2069</td>\n",
              "      <td>...</td>\n",
              "      <td>25.53</td>\n",
              "      <td>152.50</td>\n",
              "      <td>1709.0</td>\n",
              "      <td>0.1444</td>\n",
              "      <td>0.4245</td>\n",
              "      <td>0.4504</td>\n",
              "      <td>0.2430</td>\n",
              "      <td>0.3613</td>\n",
              "      <td>0.08758</td>\n",
              "      <td>M</td>\n",
              "    </tr>\n",
              "    <tr>\n",
              "      <th>3</th>\n",
              "      <td>84348301</td>\n",
              "      <td>11.42</td>\n",
              "      <td>20.38</td>\n",
              "      <td>77.58</td>\n",
              "      <td>386.1</td>\n",
              "      <td>0.14250</td>\n",
              "      <td>0.28390</td>\n",
              "      <td>0.2414</td>\n",
              "      <td>0.10520</td>\n",
              "      <td>0.2597</td>\n",
              "      <td>...</td>\n",
              "      <td>26.50</td>\n",
              "      <td>98.87</td>\n",
              "      <td>567.7</td>\n",
              "      <td>0.2098</td>\n",
              "      <td>0.8663</td>\n",
              "      <td>0.6869</td>\n",
              "      <td>0.2575</td>\n",
              "      <td>0.6638</td>\n",
              "      <td>0.17300</td>\n",
              "      <td>M</td>\n",
              "    </tr>\n",
              "    <tr>\n",
              "      <th>4</th>\n",
              "      <td>84358402</td>\n",
              "      <td>20.29</td>\n",
              "      <td>14.34</td>\n",
              "      <td>135.10</td>\n",
              "      <td>1297.0</td>\n",
              "      <td>0.10030</td>\n",
              "      <td>0.13280</td>\n",
              "      <td>0.1980</td>\n",
              "      <td>0.10430</td>\n",
              "      <td>0.1809</td>\n",
              "      <td>...</td>\n",
              "      <td>16.67</td>\n",
              "      <td>152.20</td>\n",
              "      <td>1575.0</td>\n",
              "      <td>0.1374</td>\n",
              "      <td>0.2050</td>\n",
              "      <td>0.4000</td>\n",
              "      <td>0.1625</td>\n",
              "      <td>0.2364</td>\n",
              "      <td>0.07678</td>\n",
              "      <td>M</td>\n",
              "    </tr>\n",
              "  </tbody>\n",
              "</table>\n",
              "<p>5 rows × 32 columns</p>\n",
              "</div>\n",
              "      <button class=\"colab-df-convert\" onclick=\"convertToInteractive('df-3800ed0f-c0e5-4793-b952-953d2b5f6398')\"\n",
              "              title=\"Convert this dataframe to an interactive table.\"\n",
              "              style=\"display:none;\">\n",
              "        \n",
              "  <svg xmlns=\"http://www.w3.org/2000/svg\" height=\"24px\"viewBox=\"0 0 24 24\"\n",
              "       width=\"24px\">\n",
              "    <path d=\"M0 0h24v24H0V0z\" fill=\"none\"/>\n",
              "    <path d=\"M18.56 5.44l.94 2.06.94-2.06 2.06-.94-2.06-.94-.94-2.06-.94 2.06-2.06.94zm-11 1L8.5 8.5l.94-2.06 2.06-.94-2.06-.94L8.5 2.5l-.94 2.06-2.06.94zm10 10l.94 2.06.94-2.06 2.06-.94-2.06-.94-.94-2.06-.94 2.06-2.06.94z\"/><path d=\"M17.41 7.96l-1.37-1.37c-.4-.4-.92-.59-1.43-.59-.52 0-1.04.2-1.43.59L10.3 9.45l-7.72 7.72c-.78.78-.78 2.05 0 2.83L4 21.41c.39.39.9.59 1.41.59.51 0 1.02-.2 1.41-.59l7.78-7.78 2.81-2.81c.8-.78.8-2.07 0-2.86zM5.41 20L4 18.59l7.72-7.72 1.47 1.35L5.41 20z\"/>\n",
              "  </svg>\n",
              "      </button>\n",
              "      \n",
              "  <style>\n",
              "    .colab-df-container {\n",
              "      display:flex;\n",
              "      flex-wrap:wrap;\n",
              "      gap: 12px;\n",
              "    }\n",
              "\n",
              "    .colab-df-convert {\n",
              "      background-color: #E8F0FE;\n",
              "      border: none;\n",
              "      border-radius: 50%;\n",
              "      cursor: pointer;\n",
              "      display: none;\n",
              "      fill: #1967D2;\n",
              "      height: 32px;\n",
              "      padding: 0 0 0 0;\n",
              "      width: 32px;\n",
              "    }\n",
              "\n",
              "    .colab-df-convert:hover {\n",
              "      background-color: #E2EBFA;\n",
              "      box-shadow: 0px 1px 2px rgba(60, 64, 67, 0.3), 0px 1px 3px 1px rgba(60, 64, 67, 0.15);\n",
              "      fill: #174EA6;\n",
              "    }\n",
              "\n",
              "    [theme=dark] .colab-df-convert {\n",
              "      background-color: #3B4455;\n",
              "      fill: #D2E3FC;\n",
              "    }\n",
              "\n",
              "    [theme=dark] .colab-df-convert:hover {\n",
              "      background-color: #434B5C;\n",
              "      box-shadow: 0px 1px 3px 1px rgba(0, 0, 0, 0.15);\n",
              "      filter: drop-shadow(0px 1px 2px rgba(0, 0, 0, 0.3));\n",
              "      fill: #FFFFFF;\n",
              "    }\n",
              "  </style>\n",
              "\n",
              "      <script>\n",
              "        const buttonEl =\n",
              "          document.querySelector('#df-3800ed0f-c0e5-4793-b952-953d2b5f6398 button.colab-df-convert');\n",
              "        buttonEl.style.display =\n",
              "          google.colab.kernel.accessAllowed ? 'block' : 'none';\n",
              "\n",
              "        async function convertToInteractive(key) {\n",
              "          const element = document.querySelector('#df-3800ed0f-c0e5-4793-b952-953d2b5f6398');\n",
              "          const dataTable =\n",
              "            await google.colab.kernel.invokeFunction('convertToInteractive',\n",
              "                                                     [key], {});\n",
              "          if (!dataTable) return;\n",
              "\n",
              "          const docLinkHtml = 'Like what you see? Visit the ' +\n",
              "            '<a target=\"_blank\" href=https://colab.research.google.com/notebooks/data_table.ipynb>data table notebook</a>'\n",
              "            + ' to learn more about interactive tables.';\n",
              "          element.innerHTML = '';\n",
              "          dataTable['output_type'] = 'display_data';\n",
              "          await google.colab.output.renderOutput(dataTable, element);\n",
              "          const docLink = document.createElement('div');\n",
              "          docLink.innerHTML = docLinkHtml;\n",
              "          element.appendChild(docLink);\n",
              "        }\n",
              "      </script>\n",
              "    </div>\n",
              "  </div>\n",
              "  "
            ]
          },
          "metadata": {},
          "execution_count": 3
        }
      ]
    },
    {
      "cell_type": "code",
      "source": [
        "X = dataset.iloc[:,1:31].values\n",
        "y = dataset[['diagnosis']].values"
      ],
      "metadata": {
        "id": "VozEpaQeogvv"
      },
      "execution_count": null,
      "outputs": []
    },
    {
      "cell_type": "markdown",
      "source": [
        "### LOGISTIC REGRESSION"
      ],
      "metadata": {
        "id": "HuWSpJQbd5M5"
      }
    },
    {
      "cell_type": "code",
      "source": [
        "from sklearn.model_selection import train_test_split\n",
        "X_train,X_test,y_train,y_test = train_test_split(X,y,test_size = 0.2,random_state = 3)"
      ],
      "metadata": {
        "id": "hsVqeO-WoxRg"
      },
      "execution_count": null,
      "outputs": []
    },
    {
      "cell_type": "code",
      "source": [
        "# Standardization\n",
        "from sklearn.preprocessing import StandardScaler\n",
        "sc = StandardScaler()\n",
        "X_train = sc.fit_transform(X_train)\n",
        "X_test = sc.fit_transform(X_test)"
      ],
      "metadata": {
        "id": "eqTfbD1apQKT"
      },
      "execution_count": null,
      "outputs": []
    },
    {
      "cell_type": "code",
      "source": [
        "X_test"
      ],
      "metadata": {
        "colab": {
          "base_uri": "https://localhost:8080/"
        },
        "id": "QSMcV_DEptA2",
        "outputId": "3ccbf560-c8d8-4e76-d364-e5e5942f6c77"
      },
      "execution_count": null,
      "outputs": [
        {
          "output_type": "execute_result",
          "data": {
            "text/plain": [
              "array([[-1.03542019, -0.16136458, -0.95746789, ..., -0.40993146,\n",
              "         0.25492616, -0.21189431],\n",
              "       [ 0.14818437, -0.0809716 ,  0.14100499, ..., -0.12888121,\n",
              "        -0.65035293, -0.29408221],\n",
              "       [-0.74328369, -0.14281236, -0.7410287 , ..., -0.62257259,\n",
              "         0.43829825,  0.25008122],\n",
              "       ...,\n",
              "       [ 0.77160968,  1.72065564,  0.75908845, ...,  0.64383848,\n",
              "        -1.13870177, -0.0574606 ],\n",
              "       [-0.34573712, -1.36313654, -0.40273248, ..., -0.84127956,\n",
              "        -0.9630506 , -0.65729969],\n",
              "       [-0.51138153, -0.98590795, -0.56110262, ..., -0.9378274 ,\n",
              "        -0.98428316, -1.28099979]])"
            ]
          },
          "metadata": {},
          "execution_count": 7
        }
      ]
    },
    {
      "cell_type": "markdown",
      "source": [
        "#### FITTING THE MODEL"
      ],
      "metadata": {
        "id": "_6H22kT3p8pj"
      }
    },
    {
      "cell_type": "code",
      "source": [
        "from sklearn.linear_model import LogisticRegression\n",
        "classifier = LogisticRegression(random_state = 0)\n",
        "classifier.fit(X_train,y_train)"
      ],
      "metadata": {
        "colab": {
          "base_uri": "https://localhost:8080/"
        },
        "id": "zmnW_J9Apvso",
        "outputId": "a4328038-c424-4dfe-88ba-530264168256"
      },
      "execution_count": null,
      "outputs": [
        {
          "output_type": "stream",
          "name": "stderr",
          "text": [
            "/usr/local/lib/python3.7/dist-packages/sklearn/utils/validation.py:993: DataConversionWarning: A column-vector y was passed when a 1d array was expected. Please change the shape of y to (n_samples, ), for example using ravel().\n",
            "  y = column_or_1d(y, warn=True)\n"
          ]
        },
        {
          "output_type": "execute_result",
          "data": {
            "text/plain": [
              "LogisticRegression(random_state=0)"
            ]
          },
          "metadata": {},
          "execution_count": 8
        }
      ]
    },
    {
      "cell_type": "markdown",
      "source": [
        "##### Prediction"
      ],
      "metadata": {
        "id": "GSCmo5uwqVAh"
      }
    },
    {
      "cell_type": "code",
      "source": [
        "print(classifier.predict(sc.transform([[18,10.38,132.8,1001,0.1184,0.2776,0.3001,0.1471,0.2419,0.07871,1.095,0.9053,8.589,153.4,0.006399,0.04904,0.05373,0.01587,0.03003,0.006193,25.38,17.33,184.6,2019,0.1622,0.6656,0.7119,0.2654,0.4601,0.1189]])))"
      ],
      "metadata": {
        "colab": {
          "base_uri": "https://localhost:8080/"
        },
        "id": "wUM3lzvgqQYE",
        "outputId": "0176a576-0a7f-4d17-e810-42c57f045a2f"
      },
      "execution_count": null,
      "outputs": [
        {
          "output_type": "stream",
          "name": "stdout",
          "text": [
            "['M']\n"
          ]
        }
      ]
    },
    {
      "cell_type": "code",
      "source": [
        "y_pred = classifier.predict(X_test)\n",
        "print(np.concatenate((y_pred.reshape(len(y_pred),1),y_test.reshape(len(y_test),1)),1))"
      ],
      "metadata": {
        "colab": {
          "base_uri": "https://localhost:8080/"
        },
        "id": "fWKuRu9wqtKH",
        "outputId": "24f20582-c7c2-41d2-dba6-8b9cb0c39e3a"
      },
      "execution_count": null,
      "outputs": [
        {
          "output_type": "stream",
          "name": "stdout",
          "text": [
            "[['B' 'B']\n",
            " ['B' 'B']\n",
            " ['B' 'B']\n",
            " ['B' 'B']\n",
            " ['M' 'M']\n",
            " ['B' 'B']\n",
            " ['B' 'B']\n",
            " ['B' 'B']\n",
            " ['B' 'B']\n",
            " ['B' 'B']\n",
            " ['B' 'B']\n",
            " ['M' 'M']\n",
            " ['B' 'B']\n",
            " ['B' 'B']\n",
            " ['B' 'B']\n",
            " ['B' 'B']\n",
            " ['B' 'B']\n",
            " ['B' 'B']\n",
            " ['M' 'M']\n",
            " ['B' 'B']\n",
            " ['B' 'B']\n",
            " ['B' 'B']\n",
            " ['B' 'B']\n",
            " ['M' 'B']\n",
            " ['B' 'B']\n",
            " ['B' 'B']\n",
            " ['B' 'B']\n",
            " ['M' 'M']\n",
            " ['M' 'M']\n",
            " ['B' 'B']\n",
            " ['M' 'M']\n",
            " ['B' 'B']\n",
            " ['B' 'B']\n",
            " ['B' 'B']\n",
            " ['B' 'B']\n",
            " ['B' 'B']\n",
            " ['B' 'B']\n",
            " ['B' 'B']\n",
            " ['M' 'M']\n",
            " ['M' 'M']\n",
            " ['M' 'M']\n",
            " ['B' 'B']\n",
            " ['B' 'B']\n",
            " ['M' 'M']\n",
            " ['B' 'B']\n",
            " ['B' 'B']\n",
            " ['M' 'M']\n",
            " ['B' 'M']\n",
            " ['M' 'M']\n",
            " ['B' 'B']\n",
            " ['M' 'M']\n",
            " ['B' 'B']\n",
            " ['B' 'B']\n",
            " ['M' 'M']\n",
            " ['M' 'M']\n",
            " ['B' 'B']\n",
            " ['B' 'B']\n",
            " ['M' 'B']\n",
            " ['B' 'B']\n",
            " ['B' 'B']\n",
            " ['B' 'B']\n",
            " ['B' 'B']\n",
            " ['M' 'M']\n",
            " ['M' 'M']\n",
            " ['B' 'B']\n",
            " ['B' 'B']\n",
            " ['M' 'M']\n",
            " ['B' 'B']\n",
            " ['M' 'M']\n",
            " ['M' 'M']\n",
            " ['B' 'B']\n",
            " ['M' 'B']\n",
            " ['M' 'M']\n",
            " ['M' 'M']\n",
            " ['B' 'B']\n",
            " ['M' 'M']\n",
            " ['B' 'B']\n",
            " ['M' 'M']\n",
            " ['M' 'M']\n",
            " ['M' 'M']\n",
            " ['M' 'M']\n",
            " ['B' 'B']\n",
            " ['B' 'B']\n",
            " ['B' 'B']\n",
            " ['B' 'M']\n",
            " ['M' 'M']\n",
            " ['B' 'B']\n",
            " ['B' 'B']\n",
            " ['B' 'B']\n",
            " ['B' 'B']\n",
            " ['M' 'M']\n",
            " ['M' 'M']\n",
            " ['M' 'M']\n",
            " ['B' 'B']\n",
            " ['B' 'B']\n",
            " ['M' 'M']\n",
            " ['B' 'B']\n",
            " ['M' 'M']\n",
            " ['B' 'B']\n",
            " ['B' 'B']\n",
            " ['B' 'B']\n",
            " ['M' 'M']\n",
            " ['B' 'B']\n",
            " ['B' 'B']\n",
            " ['B' 'B']\n",
            " ['M' 'M']\n",
            " ['M' 'M']\n",
            " ['B' 'B']\n",
            " ['M' 'M']\n",
            " ['B' 'B']\n",
            " ['B' 'B']\n",
            " ['M' 'M']\n",
            " ['B' 'B']\n",
            " ['B' 'B']]\n"
          ]
        }
      ]
    },
    {
      "cell_type": "markdown",
      "source": [
        "#### CONSFUSION MATRIX\n"
      ],
      "metadata": {
        "id": "vCj7MSt7rvJD"
      }
    },
    {
      "cell_type": "code",
      "source": [
        "from sklearn.metrics import confusion_matrix, accuracy_score\n",
        "cm = confusion_matrix(y_test,y_pred)\n",
        "print(cm)\n",
        "accuracy_score(y_test,y_pred)"
      ],
      "metadata": {
        "colab": {
          "base_uri": "https://localhost:8080/"
        },
        "id": "O9Ak8aSqrKn3",
        "outputId": "e0fd5fe0-7b60-411a-fe0c-3f81f858a12d"
      },
      "execution_count": null,
      "outputs": [
        {
          "output_type": "stream",
          "name": "stdout",
          "text": [
            "[[71  3]\n",
            " [ 2 38]]\n"
          ]
        },
        {
          "output_type": "execute_result",
          "data": {
            "text/plain": [
              "0.956140350877193"
            ]
          },
          "metadata": {},
          "execution_count": 11
        }
      ]
    },
    {
      "cell_type": "markdown",
      "source": [
        "### K-NEAREST NEIGHBOR"
      ],
      "metadata": {
        "id": "fSxDyamMywTY"
      }
    },
    {
      "cell_type": "markdown",
      "source": [
        "#### FITTING THE MODEL"
      ],
      "metadata": {
        "id": "UN0-nTHC0Qta"
      }
    },
    {
      "cell_type": "code",
      "source": [
        "from sklearn.neighbors import KNeighborsClassifier\n",
        "classifier = KNeighborsClassifier(n_neighbors=17,metric = 'minkowski',p = 2)\n",
        "classifier.fit(X_train,y_train)"
      ],
      "metadata": {
        "colab": {
          "base_uri": "https://localhost:8080/"
        },
        "id": "sov6xun6yzZl",
        "outputId": "fcf5a25e-3bc3-4154-f86d-2a64db907da4"
      },
      "execution_count": null,
      "outputs": [
        {
          "output_type": "stream",
          "name": "stderr",
          "text": [
            "/usr/local/lib/python3.7/dist-packages/sklearn/neighbors/_classification.py:198: DataConversionWarning: A column-vector y was passed when a 1d array was expected. Please change the shape of y to (n_samples,), for example using ravel().\n",
            "  return self._fit(X, y)\n"
          ]
        },
        {
          "output_type": "execute_result",
          "data": {
            "text/plain": [
              "KNeighborsClassifier(n_neighbors=17)"
            ]
          },
          "metadata": {},
          "execution_count": 12
        }
      ]
    },
    {
      "cell_type": "markdown",
      "source": [
        "##### Prediction"
      ],
      "metadata": {
        "id": "Md-jPA5U0UiV"
      }
    },
    {
      "cell_type": "code",
      "source": [
        "print(classifier.predict(sc.transform([[18,10.38,132.8,1001,0.1184,0.2776,0.3001,0.1471,0.2419,0.07871,1.095,0.9053,8.589,153.4,0.006399,0.04904,0.05373,0.01587,0.03003,0.006193,25.38,17.33,184.6,2019,0.1622,0.6656,0.7119,0.2654,0.4601,0.1189]])))"
      ],
      "metadata": {
        "colab": {
          "base_uri": "https://localhost:8080/"
        },
        "id": "cMCxvMNv0M6Z",
        "outputId": "7e3355a9-31f1-4895-e3f1-c97e510c633c"
      },
      "execution_count": null,
      "outputs": [
        {
          "output_type": "stream",
          "name": "stdout",
          "text": [
            "['M']\n"
          ]
        }
      ]
    },
    {
      "cell_type": "code",
      "source": [
        "y_pred = classifier.predict(X_test)\n",
        "print(np.concatenate((y_pred.reshape(len(y_pred),1),y_test.reshape(len(y_test),1)),1))"
      ],
      "metadata": {
        "colab": {
          "base_uri": "https://localhost:8080/"
        },
        "id": "TghewHc80dx4",
        "outputId": "3c13aacd-8b73-4f8a-df40-282219577f58"
      },
      "execution_count": null,
      "outputs": [
        {
          "output_type": "stream",
          "name": "stdout",
          "text": [
            "[['B' 'B']\n",
            " ['B' 'B']\n",
            " ['B' 'B']\n",
            " ['B' 'B']\n",
            " ['M' 'M']\n",
            " ['B' 'B']\n",
            " ['B' 'B']\n",
            " ['B' 'B']\n",
            " ['B' 'B']\n",
            " ['B' 'B']\n",
            " ['B' 'B']\n",
            " ['M' 'M']\n",
            " ['B' 'B']\n",
            " ['B' 'B']\n",
            " ['B' 'B']\n",
            " ['B' 'B']\n",
            " ['B' 'B']\n",
            " ['B' 'B']\n",
            " ['M' 'M']\n",
            " ['B' 'B']\n",
            " ['B' 'B']\n",
            " ['B' 'B']\n",
            " ['B' 'B']\n",
            " ['B' 'B']\n",
            " ['B' 'B']\n",
            " ['B' 'B']\n",
            " ['B' 'B']\n",
            " ['M' 'M']\n",
            " ['M' 'M']\n",
            " ['B' 'B']\n",
            " ['M' 'M']\n",
            " ['B' 'B']\n",
            " ['B' 'B']\n",
            " ['B' 'B']\n",
            " ['B' 'B']\n",
            " ['B' 'B']\n",
            " ['B' 'B']\n",
            " ['B' 'B']\n",
            " ['M' 'M']\n",
            " ['M' 'M']\n",
            " ['M' 'M']\n",
            " ['B' 'B']\n",
            " ['B' 'B']\n",
            " ['M' 'M']\n",
            " ['B' 'B']\n",
            " ['M' 'B']\n",
            " ['M' 'M']\n",
            " ['B' 'M']\n",
            " ['M' 'M']\n",
            " ['B' 'B']\n",
            " ['M' 'M']\n",
            " ['B' 'B']\n",
            " ['B' 'B']\n",
            " ['M' 'M']\n",
            " ['M' 'M']\n",
            " ['B' 'B']\n",
            " ['B' 'B']\n",
            " ['B' 'B']\n",
            " ['B' 'B']\n",
            " ['B' 'B']\n",
            " ['B' 'B']\n",
            " ['B' 'B']\n",
            " ['M' 'M']\n",
            " ['M' 'M']\n",
            " ['B' 'B']\n",
            " ['B' 'B']\n",
            " ['M' 'M']\n",
            " ['B' 'B']\n",
            " ['M' 'M']\n",
            " ['M' 'M']\n",
            " ['B' 'B']\n",
            " ['M' 'B']\n",
            " ['M' 'M']\n",
            " ['M' 'M']\n",
            " ['B' 'B']\n",
            " ['M' 'M']\n",
            " ['B' 'B']\n",
            " ['M' 'M']\n",
            " ['M' 'M']\n",
            " ['M' 'M']\n",
            " ['M' 'M']\n",
            " ['B' 'B']\n",
            " ['B' 'B']\n",
            " ['B' 'B']\n",
            " ['B' 'M']\n",
            " ['M' 'M']\n",
            " ['B' 'B']\n",
            " ['B' 'B']\n",
            " ['B' 'B']\n",
            " ['B' 'B']\n",
            " ['M' 'M']\n",
            " ['M' 'M']\n",
            " ['M' 'M']\n",
            " ['B' 'B']\n",
            " ['B' 'B']\n",
            " ['M' 'M']\n",
            " ['B' 'B']\n",
            " ['M' 'M']\n",
            " ['B' 'B']\n",
            " ['B' 'B']\n",
            " ['B' 'B']\n",
            " ['M' 'M']\n",
            " ['B' 'B']\n",
            " ['B' 'B']\n",
            " ['B' 'B']\n",
            " ['M' 'M']\n",
            " ['M' 'M']\n",
            " ['B' 'B']\n",
            " ['M' 'M']\n",
            " ['B' 'B']\n",
            " ['B' 'B']\n",
            " ['M' 'M']\n",
            " ['B' 'B']\n",
            " ['B' 'B']]\n"
          ]
        }
      ]
    },
    {
      "cell_type": "markdown",
      "source": [
        "#### CONSFUSION MATRIX"
      ],
      "metadata": {
        "id": "0o9RMFcc08SG"
      }
    },
    {
      "cell_type": "code",
      "source": [
        "from sklearn.metrics import confusion_matrix, accuracy_score\n",
        "cm = confusion_matrix(y_test,y_pred)\n",
        "print(cm)\n",
        "accuracy_score(y_test,y_pred)"
      ],
      "metadata": {
        "colab": {
          "base_uri": "https://localhost:8080/"
        },
        "id": "TRwUDuZZ05UM",
        "outputId": "08a14f8e-46e9-470c-ca32-b43d78e6286f"
      },
      "execution_count": null,
      "outputs": [
        {
          "output_type": "stream",
          "name": "stdout",
          "text": [
            "[[72  2]\n",
            " [ 2 38]]\n"
          ]
        },
        {
          "output_type": "execute_result",
          "data": {
            "text/plain": [
              "0.9649122807017544"
            ]
          },
          "metadata": {},
          "execution_count": 15
        }
      ]
    },
    {
      "cell_type": "markdown",
      "source": [
        "### SUPPORT VECTOR MACHINE(SVM)"
      ],
      "metadata": {
        "id": "12AYnDSL4ZsY"
      }
    },
    {
      "cell_type": "markdown",
      "source": [
        "### LINEAR SVM"
      ],
      "metadata": {
        "id": "TsIKa8cV4etb"
      }
    },
    {
      "cell_type": "markdown",
      "source": [
        "#### FITTING THE MODEL\n",
        "\n"
      ],
      "metadata": {
        "id": "U2ahEK1A4ksm"
      }
    },
    {
      "cell_type": "code",
      "source": [
        "from sklearn.svm import SVC\n",
        "classifier = SVC(kernel = 'linear',random_state = 0)\n",
        "classifier.fit(X_train,y_train)"
      ],
      "metadata": {
        "colab": {
          "base_uri": "https://localhost:8080/"
        },
        "id": "C8Y59-Hv1r4x",
        "outputId": "5c76b8b2-5b0c-4c8d-c8b2-539257e6e264"
      },
      "execution_count": null,
      "outputs": [
        {
          "output_type": "stream",
          "name": "stderr",
          "text": [
            "/usr/local/lib/python3.7/dist-packages/sklearn/utils/validation.py:993: DataConversionWarning: A column-vector y was passed when a 1d array was expected. Please change the shape of y to (n_samples, ), for example using ravel().\n",
            "  y = column_or_1d(y, warn=True)\n"
          ]
        },
        {
          "output_type": "execute_result",
          "data": {
            "text/plain": [
              "SVC(kernel='linear', random_state=0)"
            ]
          },
          "metadata": {},
          "execution_count": 16
        }
      ]
    },
    {
      "cell_type": "markdown",
      "source": [
        "##### Prediction"
      ],
      "metadata": {
        "id": "w1YhFStL5CSm"
      }
    },
    {
      "cell_type": "code",
      "source": [
        "print(classifier.predict(sc.transform([[18,10.38,132.8,1001,0.1184,0.2776,0.3001,0.1471,0.2419,0.07871,1.095,0.9053,8.589,153.4,0.006399,0.04904,0.05373,0.01587,0.03003,0.006193,25.38,17.33,184.6,2019,0.1622,0.6656,0.7119,0.2654,0.4601,0.1189]])))"
      ],
      "metadata": {
        "colab": {
          "base_uri": "https://localhost:8080/"
        },
        "id": "je9XC7-u47jH",
        "outputId": "8d29f097-1199-416c-d36d-4162a5b57526"
      },
      "execution_count": null,
      "outputs": [
        {
          "output_type": "stream",
          "name": "stdout",
          "text": [
            "['M']\n"
          ]
        }
      ]
    },
    {
      "cell_type": "code",
      "source": [
        "y_pred = classifier.predict(X_test)\n",
        "print(np.concatenate((y_pred.reshape(len(y_pred),1),y_test.reshape(len(y_test),1)),1))"
      ],
      "metadata": {
        "colab": {
          "base_uri": "https://localhost:8080/"
        },
        "id": "XFxSsNLr5HKD",
        "outputId": "5ec6aa5f-5f58-41de-be4b-04e1f4263e4a"
      },
      "execution_count": null,
      "outputs": [
        {
          "output_type": "stream",
          "name": "stdout",
          "text": [
            "[['B' 'B']\n",
            " ['B' 'B']\n",
            " ['B' 'B']\n",
            " ['B' 'B']\n",
            " ['M' 'M']\n",
            " ['B' 'B']\n",
            " ['B' 'B']\n",
            " ['B' 'B']\n",
            " ['B' 'B']\n",
            " ['B' 'B']\n",
            " ['B' 'B']\n",
            " ['M' 'M']\n",
            " ['B' 'B']\n",
            " ['B' 'B']\n",
            " ['B' 'B']\n",
            " ['B' 'B']\n",
            " ['B' 'B']\n",
            " ['B' 'B']\n",
            " ['M' 'M']\n",
            " ['B' 'B']\n",
            " ['B' 'B']\n",
            " ['B' 'B']\n",
            " ['B' 'B']\n",
            " ['M' 'B']\n",
            " ['B' 'B']\n",
            " ['B' 'B']\n",
            " ['B' 'B']\n",
            " ['M' 'M']\n",
            " ['M' 'M']\n",
            " ['B' 'B']\n",
            " ['M' 'M']\n",
            " ['B' 'B']\n",
            " ['B' 'B']\n",
            " ['B' 'B']\n",
            " ['B' 'B']\n",
            " ['B' 'B']\n",
            " ['B' 'B']\n",
            " ['B' 'B']\n",
            " ['M' 'M']\n",
            " ['M' 'M']\n",
            " ['M' 'M']\n",
            " ['B' 'B']\n",
            " ['B' 'B']\n",
            " ['M' 'M']\n",
            " ['B' 'B']\n",
            " ['M' 'B']\n",
            " ['M' 'M']\n",
            " ['B' 'M']\n",
            " ['M' 'M']\n",
            " ['B' 'B']\n",
            " ['M' 'M']\n",
            " ['B' 'B']\n",
            " ['B' 'B']\n",
            " ['M' 'M']\n",
            " ['M' 'M']\n",
            " ['B' 'B']\n",
            " ['B' 'B']\n",
            " ['M' 'B']\n",
            " ['B' 'B']\n",
            " ['B' 'B']\n",
            " ['B' 'B']\n",
            " ['B' 'B']\n",
            " ['M' 'M']\n",
            " ['M' 'M']\n",
            " ['B' 'B']\n",
            " ['B' 'B']\n",
            " ['M' 'M']\n",
            " ['B' 'B']\n",
            " ['M' 'M']\n",
            " ['M' 'M']\n",
            " ['B' 'B']\n",
            " ['M' 'B']\n",
            " ['M' 'M']\n",
            " ['M' 'M']\n",
            " ['B' 'B']\n",
            " ['M' 'M']\n",
            " ['B' 'B']\n",
            " ['M' 'M']\n",
            " ['M' 'M']\n",
            " ['M' 'M']\n",
            " ['M' 'M']\n",
            " ['B' 'B']\n",
            " ['B' 'B']\n",
            " ['B' 'B']\n",
            " ['B' 'M']\n",
            " ['M' 'M']\n",
            " ['B' 'B']\n",
            " ['B' 'B']\n",
            " ['B' 'B']\n",
            " ['B' 'B']\n",
            " ['M' 'M']\n",
            " ['M' 'M']\n",
            " ['M' 'M']\n",
            " ['B' 'B']\n",
            " ['B' 'B']\n",
            " ['M' 'M']\n",
            " ['B' 'B']\n",
            " ['M' 'M']\n",
            " ['B' 'B']\n",
            " ['B' 'B']\n",
            " ['B' 'B']\n",
            " ['M' 'M']\n",
            " ['B' 'B']\n",
            " ['B' 'B']\n",
            " ['B' 'B']\n",
            " ['M' 'M']\n",
            " ['M' 'M']\n",
            " ['B' 'B']\n",
            " ['M' 'M']\n",
            " ['B' 'B']\n",
            " ['B' 'B']\n",
            " ['M' 'M']\n",
            " ['B' 'B']\n",
            " ['B' 'B']]\n"
          ]
        }
      ]
    },
    {
      "cell_type": "markdown",
      "source": [
        "#### CONFUSION MATRIX"
      ],
      "metadata": {
        "id": "72QY-Ueu5OyA"
      }
    },
    {
      "cell_type": "code",
      "source": [
        "from sklearn.metrics import confusion_matrix, accuracy_score\n",
        "cm = confusion_matrix(y_test,y_pred)\n",
        "print(cm)\n",
        "accuracy_score(y_test,y_pred)"
      ],
      "metadata": {
        "colab": {
          "base_uri": "https://localhost:8080/"
        },
        "id": "0vyVcdWl5Jks",
        "outputId": "3b490831-c19a-4ed8-fc69-e572cea9c36b"
      },
      "execution_count": null,
      "outputs": [
        {
          "output_type": "stream",
          "name": "stdout",
          "text": [
            "[[70  4]\n",
            " [ 2 38]]\n"
          ]
        },
        {
          "output_type": "execute_result",
          "data": {
            "text/plain": [
              "0.9473684210526315"
            ]
          },
          "metadata": {},
          "execution_count": 19
        }
      ]
    },
    {
      "cell_type": "markdown",
      "source": [
        "### KERNEL SVM"
      ],
      "metadata": {
        "id": "6Rh6-ViJ_25M"
      }
    },
    {
      "cell_type": "markdown",
      "source": [
        "#### FITTING THE MODEL\n"
      ],
      "metadata": {
        "id": "Ov7Gun6AAKmq"
      }
    },
    {
      "cell_type": "code",
      "source": [
        "from sklearn.svm import SVC\n",
        "classifier = SVC(kernel = 'rbf',random_state = 0)\n",
        "classifier.fit(X_train,y_train)"
      ],
      "metadata": {
        "colab": {
          "base_uri": "https://localhost:8080/"
        },
        "id": "RSGEMpBw_6il",
        "outputId": "10742c73-dcad-44ef-9bfb-6a69a6f02e2e"
      },
      "execution_count": null,
      "outputs": [
        {
          "output_type": "stream",
          "name": "stderr",
          "text": [
            "/usr/local/lib/python3.7/dist-packages/sklearn/utils/validation.py:993: DataConversionWarning: A column-vector y was passed when a 1d array was expected. Please change the shape of y to (n_samples, ), for example using ravel().\n",
            "  y = column_or_1d(y, warn=True)\n"
          ]
        },
        {
          "output_type": "execute_result",
          "data": {
            "text/plain": [
              "SVC(random_state=0)"
            ]
          },
          "metadata": {},
          "execution_count": 20
        }
      ]
    },
    {
      "cell_type": "markdown",
      "source": [
        "\n",
        "##### Prediction"
      ],
      "metadata": {
        "id": "1hxDSqODApgN"
      }
    },
    {
      "cell_type": "code",
      "source": [
        "print(classifier.predict(sc.transform([[18,10.38,132.8,1001,0.1184,0.2776,0.3001,0.1471,0.2419,0.07871,1.095,0.9053,8.589,153.4,0.006399,0.04904,0.05373,0.01587,0.03003,0.006193,25.38,17.33,184.6,2019,0.1622,0.6656,0.7119,0.2654,0.4601,0.1189]])))"
      ],
      "metadata": {
        "colab": {
          "base_uri": "https://localhost:8080/"
        },
        "id": "xhfUExSsAP0v",
        "outputId": "6aeb1159-36a6-4015-cd3f-409a190f5d41"
      },
      "execution_count": null,
      "outputs": [
        {
          "output_type": "stream",
          "name": "stdout",
          "text": [
            "['M']\n"
          ]
        }
      ]
    },
    {
      "cell_type": "code",
      "source": [
        "y_pred = classifier.predict(X_test)\n",
        "print(np.concatenate((y_pred.reshape(len(y_pred),1),y_test.reshape(len(y_test),1)),1))"
      ],
      "metadata": {
        "colab": {
          "base_uri": "https://localhost:8080/"
        },
        "id": "Sd1IR3ZzAxXn",
        "outputId": "6bf2f8ef-35e3-40b6-e714-45742b81283c"
      },
      "execution_count": null,
      "outputs": [
        {
          "output_type": "stream",
          "name": "stdout",
          "text": [
            "[['B' 'B']\n",
            " ['B' 'B']\n",
            " ['B' 'B']\n",
            " ['B' 'B']\n",
            " ['M' 'M']\n",
            " ['B' 'B']\n",
            " ['B' 'B']\n",
            " ['B' 'B']\n",
            " ['B' 'B']\n",
            " ['B' 'B']\n",
            " ['B' 'B']\n",
            " ['M' 'M']\n",
            " ['B' 'B']\n",
            " ['B' 'B']\n",
            " ['B' 'B']\n",
            " ['B' 'B']\n",
            " ['B' 'B']\n",
            " ['B' 'B']\n",
            " ['M' 'M']\n",
            " ['B' 'B']\n",
            " ['B' 'B']\n",
            " ['B' 'B']\n",
            " ['B' 'B']\n",
            " ['M' 'B']\n",
            " ['B' 'B']\n",
            " ['B' 'B']\n",
            " ['B' 'B']\n",
            " ['M' 'M']\n",
            " ['M' 'M']\n",
            " ['B' 'B']\n",
            " ['M' 'M']\n",
            " ['B' 'B']\n",
            " ['B' 'B']\n",
            " ['B' 'B']\n",
            " ['B' 'B']\n",
            " ['B' 'B']\n",
            " ['B' 'B']\n",
            " ['B' 'B']\n",
            " ['M' 'M']\n",
            " ['M' 'M']\n",
            " ['M' 'M']\n",
            " ['B' 'B']\n",
            " ['B' 'B']\n",
            " ['M' 'M']\n",
            " ['B' 'B']\n",
            " ['M' 'B']\n",
            " ['M' 'M']\n",
            " ['B' 'M']\n",
            " ['M' 'M']\n",
            " ['B' 'B']\n",
            " ['M' 'M']\n",
            " ['B' 'B']\n",
            " ['B' 'B']\n",
            " ['M' 'M']\n",
            " ['M' 'M']\n",
            " ['B' 'B']\n",
            " ['B' 'B']\n",
            " ['M' 'B']\n",
            " ['B' 'B']\n",
            " ['B' 'B']\n",
            " ['B' 'B']\n",
            " ['B' 'B']\n",
            " ['M' 'M']\n",
            " ['M' 'M']\n",
            " ['B' 'B']\n",
            " ['B' 'B']\n",
            " ['M' 'M']\n",
            " ['B' 'B']\n",
            " ['M' 'M']\n",
            " ['M' 'M']\n",
            " ['B' 'B']\n",
            " ['M' 'B']\n",
            " ['M' 'M']\n",
            " ['M' 'M']\n",
            " ['B' 'B']\n",
            " ['M' 'M']\n",
            " ['B' 'B']\n",
            " ['M' 'M']\n",
            " ['M' 'M']\n",
            " ['M' 'M']\n",
            " ['M' 'M']\n",
            " ['B' 'B']\n",
            " ['B' 'B']\n",
            " ['B' 'B']\n",
            " ['B' 'M']\n",
            " ['M' 'M']\n",
            " ['B' 'B']\n",
            " ['B' 'B']\n",
            " ['B' 'B']\n",
            " ['B' 'B']\n",
            " ['M' 'M']\n",
            " ['M' 'M']\n",
            " ['M' 'M']\n",
            " ['B' 'B']\n",
            " ['B' 'B']\n",
            " ['M' 'M']\n",
            " ['B' 'B']\n",
            " ['M' 'M']\n",
            " ['B' 'B']\n",
            " ['B' 'B']\n",
            " ['B' 'B']\n",
            " ['M' 'M']\n",
            " ['B' 'B']\n",
            " ['B' 'B']\n",
            " ['B' 'B']\n",
            " ['M' 'M']\n",
            " ['M' 'M']\n",
            " ['B' 'B']\n",
            " ['M' 'M']\n",
            " ['B' 'B']\n",
            " ['B' 'B']\n",
            " ['M' 'M']\n",
            " ['B' 'B']\n",
            " ['B' 'B']]\n"
          ]
        }
      ]
    },
    {
      "cell_type": "markdown",
      "source": [
        "#### CONFUSION MATRIX"
      ],
      "metadata": {
        "id": "jAl0amNxA3ML"
      }
    },
    {
      "cell_type": "code",
      "source": [
        "from sklearn.metrics import confusion_matrix, accuracy_score\n",
        "cm = confusion_matrix(y_test,y_pred)\n",
        "print(cm)\n",
        "accuracy_score(y_test,y_pred)"
      ],
      "metadata": {
        "colab": {
          "base_uri": "https://localhost:8080/"
        },
        "id": "NEASSapOA0wG",
        "outputId": "f7e7ba99-5b11-496f-9611-c1e8555776d0"
      },
      "execution_count": null,
      "outputs": [
        {
          "output_type": "stream",
          "name": "stdout",
          "text": [
            "[[70  4]\n",
            " [ 2 38]]\n"
          ]
        },
        {
          "output_type": "execute_result",
          "data": {
            "text/plain": [
              "0.9473684210526315"
            ]
          },
          "metadata": {},
          "execution_count": 23
        }
      ]
    },
    {
      "cell_type": "markdown",
      "source": [
        "### NAIVE BAYES"
      ],
      "metadata": {
        "id": "VUhrPTldBLBQ"
      }
    },
    {
      "cell_type": "markdown",
      "source": [
        "#### FITTING THE MODEL\n"
      ],
      "metadata": {
        "id": "zQQQhzieFdRi"
      }
    },
    {
      "cell_type": "code",
      "source": [
        "from sklearn.naive_bayes import GaussianNB\n",
        "classifier = GaussianNB()\n",
        "classifier.fit(X_train,y_train)"
      ],
      "metadata": {
        "colab": {
          "base_uri": "https://localhost:8080/"
        },
        "id": "hDcAdOMvA61l",
        "outputId": "9f11a35b-2bdb-4122-d740-df246777c055"
      },
      "execution_count": null,
      "outputs": [
        {
          "output_type": "stream",
          "name": "stderr",
          "text": [
            "/usr/local/lib/python3.7/dist-packages/sklearn/utils/validation.py:993: DataConversionWarning: A column-vector y was passed when a 1d array was expected. Please change the shape of y to (n_samples, ), for example using ravel().\n",
            "  y = column_or_1d(y, warn=True)\n"
          ]
        },
        {
          "output_type": "execute_result",
          "data": {
            "text/plain": [
              "GaussianNB()"
            ]
          },
          "metadata": {},
          "execution_count": 24
        }
      ]
    },
    {
      "cell_type": "markdown",
      "source": [
        "##### Prediction"
      ],
      "metadata": {
        "id": "lbc6zCAyF0LC"
      }
    },
    {
      "cell_type": "code",
      "source": [
        "print(classifier.predict(sc.transform([[18,10.38,132.8,1001,0.1184,0.2776,0.3001,0.1471,0.2419,0.07871,1.095,0.9053,8.589,153.4,0.006399,0.04904,0.05373,0.01587,0.03003,0.006193,25.38,17.33,184.6,2019,0.1622,0.6656,0.7119,0.2654,0.4601,0.1189]])))"
      ],
      "metadata": {
        "colab": {
          "base_uri": "https://localhost:8080/"
        },
        "id": "t9gmp-avFvWT",
        "outputId": "b6e753be-82a4-44ca-a562-87ff43a7810d"
      },
      "execution_count": null,
      "outputs": [
        {
          "output_type": "stream",
          "name": "stdout",
          "text": [
            "['M']\n"
          ]
        }
      ]
    },
    {
      "cell_type": "code",
      "source": [
        "y_pred = classifier.predict(X_test)\n",
        "print(np.concatenate((y_pred.reshape(len(y_pred),1),y_test.reshape(len(y_test),1)),1))"
      ],
      "metadata": {
        "colab": {
          "base_uri": "https://localhost:8080/"
        },
        "id": "2clYPm4VF3qK",
        "outputId": "f4cb0f47-8cdd-48af-dec6-58408c055c04"
      },
      "execution_count": null,
      "outputs": [
        {
          "output_type": "stream",
          "name": "stdout",
          "text": [
            "[['B' 'B']\n",
            " ['B' 'B']\n",
            " ['B' 'B']\n",
            " ['B' 'B']\n",
            " ['M' 'M']\n",
            " ['B' 'B']\n",
            " ['B' 'B']\n",
            " ['B' 'B']\n",
            " ['B' 'B']\n",
            " ['B' 'B']\n",
            " ['B' 'B']\n",
            " ['M' 'M']\n",
            " ['B' 'B']\n",
            " ['M' 'B']\n",
            " ['B' 'B']\n",
            " ['B' 'B']\n",
            " ['B' 'B']\n",
            " ['B' 'B']\n",
            " ['M' 'M']\n",
            " ['B' 'B']\n",
            " ['B' 'B']\n",
            " ['B' 'B']\n",
            " ['B' 'B']\n",
            " ['M' 'B']\n",
            " ['B' 'B']\n",
            " ['B' 'B']\n",
            " ['B' 'B']\n",
            " ['M' 'M']\n",
            " ['M' 'M']\n",
            " ['B' 'B']\n",
            " ['M' 'M']\n",
            " ['B' 'B']\n",
            " ['B' 'B']\n",
            " ['B' 'B']\n",
            " ['B' 'B']\n",
            " ['B' 'B']\n",
            " ['B' 'B']\n",
            " ['B' 'B']\n",
            " ['M' 'M']\n",
            " ['M' 'M']\n",
            " ['M' 'M']\n",
            " ['B' 'B']\n",
            " ['B' 'B']\n",
            " ['M' 'M']\n",
            " ['B' 'B']\n",
            " ['M' 'B']\n",
            " ['M' 'M']\n",
            " ['B' 'M']\n",
            " ['M' 'M']\n",
            " ['B' 'B']\n",
            " ['M' 'M']\n",
            " ['B' 'B']\n",
            " ['B' 'B']\n",
            " ['M' 'M']\n",
            " ['M' 'M']\n",
            " ['B' 'B']\n",
            " ['B' 'B']\n",
            " ['M' 'B']\n",
            " ['B' 'B']\n",
            " ['B' 'B']\n",
            " ['B' 'B']\n",
            " ['B' 'B']\n",
            " ['M' 'M']\n",
            " ['B' 'M']\n",
            " ['B' 'B']\n",
            " ['B' 'B']\n",
            " ['M' 'M']\n",
            " ['B' 'B']\n",
            " ['M' 'M']\n",
            " ['M' 'M']\n",
            " ['B' 'B']\n",
            " ['M' 'B']\n",
            " ['M' 'M']\n",
            " ['M' 'M']\n",
            " ['B' 'B']\n",
            " ['M' 'M']\n",
            " ['B' 'B']\n",
            " ['M' 'M']\n",
            " ['M' 'M']\n",
            " ['M' 'M']\n",
            " ['M' 'M']\n",
            " ['B' 'B']\n",
            " ['B' 'B']\n",
            " ['B' 'B']\n",
            " ['B' 'M']\n",
            " ['M' 'M']\n",
            " ['B' 'B']\n",
            " ['B' 'B']\n",
            " ['B' 'B']\n",
            " ['B' 'B']\n",
            " ['M' 'M']\n",
            " ['M' 'M']\n",
            " ['M' 'M']\n",
            " ['B' 'B']\n",
            " ['B' 'B']\n",
            " ['M' 'M']\n",
            " ['B' 'B']\n",
            " ['M' 'M']\n",
            " ['B' 'B']\n",
            " ['B' 'B']\n",
            " ['B' 'B']\n",
            " ['B' 'M']\n",
            " ['B' 'B']\n",
            " ['B' 'B']\n",
            " ['B' 'B']\n",
            " ['M' 'M']\n",
            " ['M' 'M']\n",
            " ['B' 'B']\n",
            " ['M' 'M']\n",
            " ['B' 'B']\n",
            " ['B' 'B']\n",
            " ['M' 'M']\n",
            " ['B' 'B']\n",
            " ['B' 'B']]\n"
          ]
        }
      ]
    },
    {
      "cell_type": "markdown",
      "source": [
        "#### CONFUSION MATRIX"
      ],
      "metadata": {
        "id": "OsgPqRKNF913"
      }
    },
    {
      "cell_type": "code",
      "source": [
        "from sklearn.metrics import confusion_matrix, accuracy_score\n",
        "cm = confusion_matrix(y_test,y_pred)\n",
        "print(cm)\n",
        "accuracy_score(y_test,y_pred)"
      ],
      "metadata": {
        "colab": {
          "base_uri": "https://localhost:8080/"
        },
        "id": "OH5QvkC6F7Po",
        "outputId": "19ed43a3-0b9c-4ea3-dcab-9eca556ccb5d"
      },
      "execution_count": null,
      "outputs": [
        {
          "output_type": "stream",
          "name": "stdout",
          "text": [
            "[[69  5]\n",
            " [ 4 36]]\n"
          ]
        },
        {
          "output_type": "execute_result",
          "data": {
            "text/plain": [
              "0.9210526315789473"
            ]
          },
          "metadata": {},
          "execution_count": 27
        }
      ]
    },
    {
      "cell_type": "markdown",
      "source": [
        "### DECISION TREE CLASSIFIER"
      ],
      "metadata": {
        "id": "ejETYN_QJQ7n"
      }
    },
    {
      "cell_type": "markdown",
      "source": [
        "#### FITTING THE MODEL"
      ],
      "metadata": {
        "id": "XTQ0t4Q1Jlsj"
      }
    },
    {
      "cell_type": "code",
      "source": [
        "from sklearn.tree import DecisionTreeClassifier\n",
        "classifier = DecisionTreeClassifier(criterion = 'entropy',random_state = 0)\n",
        "classifier.fit(X_train,y_train)"
      ],
      "metadata": {
        "colab": {
          "base_uri": "https://localhost:8080/"
        },
        "id": "kM60YQW_JQml",
        "outputId": "4b6c1df5-1372-4fd5-d242-e15df9e09384"
      },
      "execution_count": null,
      "outputs": [
        {
          "output_type": "execute_result",
          "data": {
            "text/plain": [
              "DecisionTreeClassifier(criterion='entropy', random_state=0)"
            ]
          },
          "metadata": {},
          "execution_count": 28
        }
      ]
    },
    {
      "cell_type": "markdown",
      "source": [
        "##### Prediction"
      ],
      "metadata": {
        "id": "9Ve97E8FJ8s0"
      }
    },
    {
      "cell_type": "code",
      "source": [
        "print(classifier.predict(sc.transform([[18,10.38,132.8,1001,0.1184,0.2776,0.3001,0.1471,0.2419,0.07871,1.095,0.9053,8.589,153.4,0.006399,0.04904,0.05373,0.01587,0.03003,0.006193,25.38,17.33,184.6,2019,0.1622,0.6656,0.7119,0.2654,0.4601,0.1189]])))"
      ],
      "metadata": {
        "colab": {
          "base_uri": "https://localhost:8080/"
        },
        "id": "hu5K1mQdGAWB",
        "outputId": "d16dcca4-7dff-4e61-8eff-1b2072598dfa"
      },
      "execution_count": null,
      "outputs": [
        {
          "output_type": "stream",
          "name": "stdout",
          "text": [
            "['M']\n"
          ]
        }
      ]
    },
    {
      "cell_type": "code",
      "source": [
        "y_pred = classifier.predict(X_test)\n",
        "print(np.concatenate((y_pred.reshape(len(y_pred),1),y_test.reshape(len(y_test),1)),1))"
      ],
      "metadata": {
        "colab": {
          "base_uri": "https://localhost:8080/"
        },
        "id": "gNpVsbw6J_eO",
        "outputId": "5a9ef9aa-9cc7-4674-e0a7-1eef36888f9b"
      },
      "execution_count": null,
      "outputs": [
        {
          "output_type": "stream",
          "name": "stdout",
          "text": [
            "[['B' 'B']\n",
            " ['B' 'B']\n",
            " ['B' 'B']\n",
            " ['B' 'B']\n",
            " ['M' 'M']\n",
            " ['B' 'B']\n",
            " ['B' 'B']\n",
            " ['B' 'B']\n",
            " ['B' 'B']\n",
            " ['B' 'B']\n",
            " ['B' 'B']\n",
            " ['M' 'M']\n",
            " ['B' 'B']\n",
            " ['M' 'B']\n",
            " ['B' 'B']\n",
            " ['B' 'B']\n",
            " ['B' 'B']\n",
            " ['B' 'B']\n",
            " ['M' 'M']\n",
            " ['M' 'B']\n",
            " ['B' 'B']\n",
            " ['B' 'B']\n",
            " ['B' 'B']\n",
            " ['M' 'B']\n",
            " ['B' 'B']\n",
            " ['B' 'B']\n",
            " ['B' 'B']\n",
            " ['M' 'M']\n",
            " ['M' 'M']\n",
            " ['B' 'B']\n",
            " ['M' 'M']\n",
            " ['B' 'B']\n",
            " ['M' 'B']\n",
            " ['B' 'B']\n",
            " ['B' 'B']\n",
            " ['B' 'B']\n",
            " ['B' 'B']\n",
            " ['B' 'B']\n",
            " ['M' 'M']\n",
            " ['M' 'M']\n",
            " ['M' 'M']\n",
            " ['B' 'B']\n",
            " ['B' 'B']\n",
            " ['M' 'M']\n",
            " ['B' 'B']\n",
            " ['M' 'B']\n",
            " ['M' 'M']\n",
            " ['B' 'M']\n",
            " ['M' 'M']\n",
            " ['B' 'B']\n",
            " ['M' 'M']\n",
            " ['B' 'B']\n",
            " ['B' 'B']\n",
            " ['M' 'M']\n",
            " ['M' 'M']\n",
            " ['B' 'B']\n",
            " ['B' 'B']\n",
            " ['M' 'B']\n",
            " ['M' 'B']\n",
            " ['B' 'B']\n",
            " ['B' 'B']\n",
            " ['B' 'B']\n",
            " ['M' 'M']\n",
            " ['M' 'M']\n",
            " ['B' 'B']\n",
            " ['B' 'B']\n",
            " ['M' 'M']\n",
            " ['B' 'B']\n",
            " ['M' 'M']\n",
            " ['M' 'M']\n",
            " ['B' 'B']\n",
            " ['M' 'B']\n",
            " ['M' 'M']\n",
            " ['M' 'M']\n",
            " ['B' 'B']\n",
            " ['M' 'M']\n",
            " ['B' 'B']\n",
            " ['M' 'M']\n",
            " ['M' 'M']\n",
            " ['M' 'M']\n",
            " ['M' 'M']\n",
            " ['M' 'B']\n",
            " ['B' 'B']\n",
            " ['B' 'B']\n",
            " ['B' 'M']\n",
            " ['M' 'M']\n",
            " ['B' 'B']\n",
            " ['B' 'B']\n",
            " ['B' 'B']\n",
            " ['B' 'B']\n",
            " ['M' 'M']\n",
            " ['M' 'M']\n",
            " ['M' 'M']\n",
            " ['B' 'B']\n",
            " ['B' 'B']\n",
            " ['M' 'M']\n",
            " ['B' 'B']\n",
            " ['M' 'M']\n",
            " ['B' 'B']\n",
            " ['B' 'B']\n",
            " ['B' 'B']\n",
            " ['M' 'M']\n",
            " ['B' 'B']\n",
            " ['B' 'B']\n",
            " ['B' 'B']\n",
            " ['M' 'M']\n",
            " ['M' 'M']\n",
            " ['B' 'B']\n",
            " ['M' 'M']\n",
            " ['B' 'B']\n",
            " ['B' 'B']\n",
            " ['M' 'M']\n",
            " ['B' 'B']\n",
            " ['B' 'B']]\n"
          ]
        }
      ]
    },
    {
      "cell_type": "markdown",
      "source": [
        "#### CONFUSION MATRIX"
      ],
      "metadata": {
        "id": "8XkWdu6cKF5F"
      }
    },
    {
      "cell_type": "code",
      "source": [
        "from sklearn.metrics import confusion_matrix, accuracy_score\n",
        "cm = confusion_matrix(y_test,y_pred)\n",
        "print(cm)\n",
        "accuracy_score(y_test,y_pred)"
      ],
      "metadata": {
        "colab": {
          "base_uri": "https://localhost:8080/"
        },
        "id": "hoOFxDr6KBMe",
        "outputId": "5208416f-3e4a-4527-e954-a80d9c4be13e"
      },
      "execution_count": null,
      "outputs": [
        {
          "output_type": "stream",
          "name": "stdout",
          "text": [
            "[[65  9]\n",
            " [ 2 38]]\n"
          ]
        },
        {
          "output_type": "execute_result",
          "data": {
            "text/plain": [
              "0.9035087719298246"
            ]
          },
          "metadata": {},
          "execution_count": 31
        }
      ]
    },
    {
      "cell_type": "markdown",
      "source": [
        "### RANDOM FOREST"
      ],
      "metadata": {
        "id": "AHw8cvPRMylH"
      }
    },
    {
      "cell_type": "markdown",
      "source": [
        "#### FITTING THE MODEL"
      ],
      "metadata": {
        "id": "i37Bww4QM8Ho"
      }
    },
    {
      "cell_type": "code",
      "source": [
        "from sklearn.ensemble import RandomForestClassifier\n",
        "classifier = RandomForestClassifier(n_estimators=1000, criterion='entropy',random_state = 0)\n",
        "classifier.fit(X_train,y_train)"
      ],
      "metadata": {
        "colab": {
          "base_uri": "https://localhost:8080/"
        },
        "id": "ZrTK56ixKI3n",
        "outputId": "26bda352-30fe-418e-e491-37c079304bad"
      },
      "execution_count": null,
      "outputs": [
        {
          "output_type": "stream",
          "name": "stderr",
          "text": [
            "/usr/local/lib/python3.7/dist-packages/ipykernel_launcher.py:3: DataConversionWarning: A column-vector y was passed when a 1d array was expected. Please change the shape of y to (n_samples,), for example using ravel().\n",
            "  This is separate from the ipykernel package so we can avoid doing imports until\n"
          ]
        },
        {
          "output_type": "execute_result",
          "data": {
            "text/plain": [
              "RandomForestClassifier(criterion='entropy', n_estimators=1000, random_state=0)"
            ]
          },
          "metadata": {},
          "execution_count": 32
        }
      ]
    },
    {
      "cell_type": "markdown",
      "source": [
        "##### Prediction"
      ],
      "metadata": {
        "id": "4OerI-SlOFBl"
      }
    },
    {
      "cell_type": "code",
      "source": [
        "print(classifier.predict(sc.transform([[18,10.38,132.8,1001,0.1184,0.2776,0.3001,0.1471,0.2419,0.07871,1.095,0.9053,8.589,153.4,0.006399,0.04904,0.05373,0.01587,0.03003,0.006193,25.38,17.33,184.6,2019,0.1622,0.6656,0.7119,0.2654,0.4601,0.1189]])))"
      ],
      "metadata": {
        "colab": {
          "base_uri": "https://localhost:8080/"
        },
        "id": "zVXwqu-yOAHS",
        "outputId": "58f1171e-63dd-44c2-82bd-1943f6dc107b"
      },
      "execution_count": null,
      "outputs": [
        {
          "output_type": "stream",
          "name": "stdout",
          "text": [
            "['M']\n"
          ]
        }
      ]
    },
    {
      "cell_type": "code",
      "source": [
        "y_pred = classifier.predict(X_test)\n",
        "print(np.concatenate((y_pred.reshape(len(y_pred),1),y_test.reshape(len(y_test),1)),1))"
      ],
      "metadata": {
        "colab": {
          "base_uri": "https://localhost:8080/"
        },
        "id": "PovtEXOGOJr0",
        "outputId": "26e0c5de-8975-40a5-80dc-4caff082767a"
      },
      "execution_count": null,
      "outputs": [
        {
          "output_type": "stream",
          "name": "stdout",
          "text": [
            "[['B' 'B']\n",
            " ['B' 'B']\n",
            " ['B' 'B']\n",
            " ['B' 'B']\n",
            " ['M' 'M']\n",
            " ['B' 'B']\n",
            " ['B' 'B']\n",
            " ['B' 'B']\n",
            " ['B' 'B']\n",
            " ['B' 'B']\n",
            " ['B' 'B']\n",
            " ['M' 'M']\n",
            " ['B' 'B']\n",
            " ['M' 'B']\n",
            " ['B' 'B']\n",
            " ['B' 'B']\n",
            " ['B' 'B']\n",
            " ['B' 'B']\n",
            " ['M' 'M']\n",
            " ['B' 'B']\n",
            " ['B' 'B']\n",
            " ['B' 'B']\n",
            " ['B' 'B']\n",
            " ['M' 'B']\n",
            " ['B' 'B']\n",
            " ['B' 'B']\n",
            " ['B' 'B']\n",
            " ['M' 'M']\n",
            " ['M' 'M']\n",
            " ['B' 'B']\n",
            " ['M' 'M']\n",
            " ['B' 'B']\n",
            " ['B' 'B']\n",
            " ['B' 'B']\n",
            " ['B' 'B']\n",
            " ['B' 'B']\n",
            " ['B' 'B']\n",
            " ['B' 'B']\n",
            " ['M' 'M']\n",
            " ['M' 'M']\n",
            " ['M' 'M']\n",
            " ['B' 'B']\n",
            " ['B' 'B']\n",
            " ['M' 'M']\n",
            " ['B' 'B']\n",
            " ['M' 'B']\n",
            " ['M' 'M']\n",
            " ['M' 'M']\n",
            " ['M' 'M']\n",
            " ['B' 'B']\n",
            " ['M' 'M']\n",
            " ['B' 'B']\n",
            " ['B' 'B']\n",
            " ['M' 'M']\n",
            " ['M' 'M']\n",
            " ['B' 'B']\n",
            " ['B' 'B']\n",
            " ['M' 'B']\n",
            " ['B' 'B']\n",
            " ['B' 'B']\n",
            " ['B' 'B']\n",
            " ['B' 'B']\n",
            " ['M' 'M']\n",
            " ['M' 'M']\n",
            " ['B' 'B']\n",
            " ['B' 'B']\n",
            " ['M' 'M']\n",
            " ['B' 'B']\n",
            " ['M' 'M']\n",
            " ['M' 'M']\n",
            " ['B' 'B']\n",
            " ['M' 'B']\n",
            " ['M' 'M']\n",
            " ['M' 'M']\n",
            " ['B' 'B']\n",
            " ['M' 'M']\n",
            " ['B' 'B']\n",
            " ['M' 'M']\n",
            " ['M' 'M']\n",
            " ['M' 'M']\n",
            " ['M' 'M']\n",
            " ['B' 'B']\n",
            " ['B' 'B']\n",
            " ['B' 'B']\n",
            " ['B' 'M']\n",
            " ['M' 'M']\n",
            " ['B' 'B']\n",
            " ['B' 'B']\n",
            " ['B' 'B']\n",
            " ['B' 'B']\n",
            " ['M' 'M']\n",
            " ['M' 'M']\n",
            " ['M' 'M']\n",
            " ['B' 'B']\n",
            " ['B' 'B']\n",
            " ['M' 'M']\n",
            " ['B' 'B']\n",
            " ['M' 'M']\n",
            " ['B' 'B']\n",
            " ['B' 'B']\n",
            " ['B' 'B']\n",
            " ['M' 'M']\n",
            " ['B' 'B']\n",
            " ['B' 'B']\n",
            " ['B' 'B']\n",
            " ['M' 'M']\n",
            " ['M' 'M']\n",
            " ['B' 'B']\n",
            " ['M' 'M']\n",
            " ['B' 'B']\n",
            " ['B' 'B']\n",
            " ['M' 'M']\n",
            " ['B' 'B']\n",
            " ['B' 'B']]\n"
          ]
        }
      ]
    },
    {
      "cell_type": "markdown",
      "source": [
        "#### CONFUSION MATRIX"
      ],
      "metadata": {
        "id": "Ya2t_FK1OliB"
      }
    },
    {
      "cell_type": "code",
      "source": [
        "from sklearn.metrics import confusion_matrix, accuracy_score\n",
        "cm = confusion_matrix(y_test,y_pred)\n",
        "print(cm)\n",
        "accuracy_score(y_test,y_pred)"
      ],
      "metadata": {
        "colab": {
          "base_uri": "https://localhost:8080/"
        },
        "id": "0Fe3U-FkOM8l",
        "outputId": "1421290a-2429-4965-b707-fd78b520cb6a"
      },
      "execution_count": null,
      "outputs": [
        {
          "output_type": "stream",
          "name": "stdout",
          "text": [
            "[[69  5]\n",
            " [ 1 39]]\n"
          ]
        },
        {
          "output_type": "execute_result",
          "data": {
            "text/plain": [
              "0.9473684210526315"
            ]
          },
          "metadata": {},
          "execution_count": 35
        }
      ]
    }
  ]
}